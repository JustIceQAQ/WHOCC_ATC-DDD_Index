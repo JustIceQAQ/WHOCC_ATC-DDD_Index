{
 "cells": [
  {
   "cell_type": "code",
   "execution_count": null,
   "id": "4e3c9fc7-ac51-48b3-bc02-18f37823536a",
   "metadata": {},
   "outputs": [],
   "source": [
    "# https://github.com/slackapi/python-slack-sdk/issues/429\n",
    "# !pip install nest_asyncio"
   ]
  },
  {
   "cell_type": "code",
   "execution_count": null,
   "id": "91163f68-d3ea-4cfa-abc3-f1b341100b1c",
   "metadata": {},
   "outputs": [],
   "source": [
    "from functools import reduce\n",
    "from operator import add\n",
    "from lxml import etree\n",
    "import aiohttp\n",
    "from bs4 import BeautifulSoup\n",
    "import asyncio\n",
    "\n",
    "ATC_DDD_URL = \"https://www.whocc.no/atc_ddd_index/?code=\"\n",
    "import nest_asyncio\n",
    "\n",
    "nest_asyncio.apply()"
   ]
  },
  {
   "cell_type": "code",
   "execution_count": null,
   "id": "6556c400-a4c2-4bcb-9135-42a30874d11f",
   "metadata": {},
   "outputs": [],
   "source": [
    "def _wash_a_element(a_element):\n",
    "    context = a_element.text\n",
    "    href = a_element.get(\"href\")[1:]\n",
    "    code_name = a_element.get(\"href\").split(\"&\")[0].split(\"=\")[-1]\n",
    "    return {\"code_name\": code_name, \"href\": href, \"context\": context}\n",
    "\n",
    "\n",
    "def _wash_text(atc_code, name, ddd, u, adm_r, note):\n",
    "    _atc_code = atc_code.text\n",
    "    _name = list(name)[0].text if list(name) else name.text\n",
    "    _ddd = ddd.text\n",
    "    _u = u.text\n",
    "    _adm_r = adm_r.text\n",
    "    _note = note.text\n",
    "    return _atc_code, _name, _ddd, _u, _adm_r, _note\n",
    "\n",
    "\n",
    "def get_table_to_dict(parsing):\n",
    "    ul_table = parsing.select_one('ul table')\n",
    "    parsed_html = etree.HTML(str(ul_table).replace(\"\\xa0\", \"\").replace(\"<sup>\", \"\").replace(\"</sup>\", \"\"))\n",
    "    html_table = parsed_html.find(\"body/table\")\n",
    "    if html_table is None:\n",
    "        return []\n",
    "    table_as_list = list(html_table)\n",
    "    table_headers = [col.text for col in table_as_list[0]]\n",
    "    table_list_dict = []\n",
    "    temp_atc_code = \"\"\n",
    "    temp_name = \"\"\n",
    "    for row in table_as_list[1:]:\n",
    "        atc_code, name, ddd, u, adm_r, note = _wash_text(*tuple(row))\n",
    "        if atc_code is not None and name is not None:\n",
    "            temp_atc_code = atc_code\n",
    "            temp_name = name\n",
    "        if atc_code is None and name is None:\n",
    "            atc_code = temp_atc_code\n",
    "            name = temp_name\n",
    "        table_context = [atc_code, name, ddd, u, adm_r, note]\n",
    "        table_list_dict.append(dict(zip(table_headers, table_context)))\n",
    "    return [dictionary for dictionary in table_list_dict]\n",
    "\n",
    "\n",
    "async def fetch_list_job(link, session, level):\n",
    "    async with session.get(link) as response:\n",
    "        html_body = await response.text()\n",
    "        parsing = BeautifulSoup(html_body, 'lxml')\n",
    "        if level != 5:\n",
    "            rowDataList = [_wash_a_element(i) for i in parsing.select('b a')]\n",
    "            rowDataList = rowDataList[:level] if level == 1 else rowDataList[level - 1:]\n",
    "        else:\n",
    "            rowDataList = get_table_to_dict(parsing)\n",
    "        return rowDataList\n",
    "\n",
    "\n",
    "async def doing_job(code_list, level):\n",
    "    url_list = [f\"{ATC_DDD_URL}{code}\" for code in code_list]\n",
    "    async with aiohttp.ClientSession() as session:\n",
    "        tasks = [asyncio.create_task(fetch_list_job(link, session, level)) for link in url_list]\n",
    "        return await asyncio.gather(*tasks)\n"
   ]
  },
  {
   "cell_type": "code",
   "execution_count": null,
   "id": "67c53730-763b-4d1c-8437-ce1d25854e2b",
   "metadata": {},
   "outputs": [],
   "source": [
    "loop = asyncio.get_event_loop()\n",
    "import string\n"
   ]
  },
  {
   "cell_type": "code",
   "execution_count": null,
   "id": "ea7f4d12-c35b-4b36-8585-0b6d3222b28e",
   "metadata": {},
   "outputs": [],
   "source": [
    "%%time\n",
    "atc_1 = reduce(add, loop.run_until_complete(doing_job(string.ascii_uppercase, 1)))"
   ]
  },
  {
   "cell_type": "code",
   "execution_count": null,
   "id": "c5c99e7a-98c4-4f70-9054-31eab8bbb432",
   "metadata": {},
   "outputs": [],
   "source": [
    "%%time\n",
    "atc_2 = reduce(add, loop.run_until_complete(doing_job(string.ascii_uppercase, 2)))\n",
    "atc_2_code = [a[\"code_name\"] for a in atc_2]"
   ]
  },
  {
   "cell_type": "code",
   "execution_count": null,
   "id": "f46d42bf-a9be-4c63-a74f-82ee2ffc9c4d",
   "metadata": {
    "tags": []
   },
   "outputs": [],
   "source": [
    "%%time\n",
    "atc_3 = reduce(add, loop.run_until_complete(doing_job(atc_2_code, 3)))\n",
    "atc_3_code = [a[\"code_name\"] for a in atc_3]"
   ]
  },
  {
   "cell_type": "code",
   "execution_count": null,
   "id": "f000df09-202b-48f1-9bb1-ddceef6b34a0",
   "metadata": {},
   "outputs": [],
   "source": [
    "%%time\n",
    "atc_4 = reduce(add, loop.run_until_complete(doing_job(atc_3_code, 4)))\n",
    "atc_4_code = [a[\"code_name\"] for a in atc_4]"
   ]
  },
  {
   "cell_type": "code",
   "execution_count": null,
   "id": "e1a017be-6e50-4067-9955-f7dccf75e19a",
   "metadata": {
    "pycharm": {
     "name": "#%%\n"
    }
   },
   "outputs": [],
   "source": [
    "%%time\n",
    "atc_5 = reduce(add, loop.run_until_complete(doing_job(atc_4_code, 5)))"
   ]
  },
  {
   "cell_type": "code",
   "execution_count": null,
   "id": "8ca97416",
   "metadata": {
    "collapsed": false,
    "jupyter": {
     "outputs_hidden": false
    },
    "pycharm": {
     "name": "#%%\n"
    }
   },
   "outputs": [],
   "source": [
    "import pandas as pd"
   ]
  },
  {
   "cell_type": "code",
   "execution_count": null,
   "id": "ad7e2c46",
   "metadata": {
    "collapsed": false,
    "jupyter": {
     "outputs_hidden": false
    },
    "pycharm": {
     "name": "#%%\n"
    }
   },
   "outputs": [],
   "source": [
    "atc_1_df = pd.DataFrame(atc_1)\n",
    "atc_1_df.to_excel('./demo_data/excel/ATC_L1.xlsx', index=False, encoding=\"UTF-8\")\n",
    "atc_1_df.to_csv('./demo_data/csv/ATC_L1.csv', index=False, encoding=\"UTF-8\")\n",
    "\n",
    "atc_2_df = pd.DataFrame(atc_2)\n",
    "atc_2_df.to_excel('./demo_data/excel/ATC_L2.xlsx', index=False, encoding=\"UTF-8\")\n",
    "atc_2_df.to_csv('./demo_data/csv/ATC_L2.csv', index=False, encoding=\"UTF-8\")\n",
    "\n",
    "atc_3_df = pd.DataFrame(atc_3)\n",
    "atc_3_df.to_excel('./demo_data/excel/ATC_L3.xlsx', index=False, encoding=\"UTF-8\")\n",
    "atc_3_df.to_csv('./demo_data/csv/ATC_L3.csv', index=False, encoding=\"UTF-8\")\n",
    "\n",
    "atc_4_df = pd.DataFrame(atc_4)\n",
    "atc_4_df.to_excel('./demo_data/excel/ATC_L4.xlsx', index=False, encoding=\"UTF-8\")\n",
    "atc_4_df.to_csv('./demo_data/csv/ATC_L4.csv', index=False, encoding=\"UTF-8\")\n",
    "\n",
    "atc_5_df = pd.DataFrame(atc_5)\n",
    "atc_5_df.to_excel('./demo_data/excel/ATC_L5.xlsx', index=False, encoding=\"UTF-8\")\n",
    "atc_5_df.to_csv('./demo_data/csv/ATC_L5.csv', index=False, encoding=\"UTF-8\")\n",
    "\n",
    "\n"
   ]
  },
  {
   "cell_type": "code",
   "execution_count": null,
   "id": "b585bd4e-709f-4122-b729-b5882a75ae22",
   "metadata": {},
   "outputs": [],
   "source": []
  }
 ],
 "metadata": {
  "kernelspec": {
   "display_name": "PyCharm (adv_spc)",
   "language": "python",
   "name": "pycharm-1c0e2f74"
  },
  "language_info": {
   "codemirror_mode": {
    "name": "ipython",
    "version": 3
   },
   "file_extension": ".py",
   "mimetype": "text/x-python",
   "name": "python",
   "nbconvert_exporter": "python",
   "pygments_lexer": "ipython3",
   "version": "3.8.8"
  }
 },
 "nbformat": 4,
 "nbformat_minor": 5
}